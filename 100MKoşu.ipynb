{
  "nbformat": 4,
  "nbformat_minor": 0,
  "metadata": {
    "colab": {
      "name": "100MKoşu.ipynb",
      "provenance": [],
      "collapsed_sections": [],
      "authorship_tag": "ABX9TyNTIP3Vd5wuQVUlVRMVOezK",
      "include_colab_link": true
    },
    "kernelspec": {
      "name": "python3",
      "display_name": "Python 3"
    },
    "language_info": {
      "name": "python"
    },
    "accelerator": "GPU"
  },
  "cells": [
    {
      "cell_type": "markdown",
      "metadata": {
        "id": "view-in-github",
        "colab_type": "text"
      },
      "source": [
        "<a href=\"https://colab.research.google.com/github/OguzhanKececiler/100MtThreadKosu-/blob/main/100MKo%C5%9Fu.ipynb\" target=\"_parent\"><img src=\"https://colab.research.google.com/assets/colab-badge.svg\" alt=\"Open In Colab\"/></a>"
      ]
    },
    {
      "cell_type": "code",
      "metadata": {
        "colab": {
          "base_uri": "https://localhost:8080/"
        },
        "id": "LgtTpYrg3YwK",
        "outputId": "c22238bb-c894-4e8b-b80e-174a77f82f79"
      },
      "source": [
        "!nvcc --version"
      ],
      "execution_count": null,
      "outputs": [
        {
          "output_type": "stream",
          "name": "stdout",
          "text": [
            "nvcc: NVIDIA (R) Cuda compiler driver\n",
            "Copyright (c) 2005-2020 NVIDIA Corporation\n",
            "Built on Mon_Oct_12_20:09:46_PDT_2020\n",
            "Cuda compilation tools, release 11.1, V11.1.105\n",
            "Build cuda_11.1.TC455_06.29190527_0\n"
          ]
        }
      ]
    },
    {
      "cell_type": "code",
      "metadata": {
        "colab": {
          "base_uri": "https://localhost:8080/"
        },
        "id": "XH3gJUdbKbzt",
        "outputId": "43907263-1416-415e-a3c3-b30a29ff43f5"
      },
      "source": [
        "!pip install git+git://github.com/andreinechaev/nvcc4jupyter.git"
      ],
      "execution_count": null,
      "outputs": [
        {
          "output_type": "stream",
          "name": "stdout",
          "text": [
            "Collecting git+git://github.com/andreinechaev/nvcc4jupyter.git\n",
            "  Cloning git://github.com/andreinechaev/nvcc4jupyter.git to /tmp/pip-req-build-53fae578\n",
            "  Running command git clone -q git://github.com/andreinechaev/nvcc4jupyter.git /tmp/pip-req-build-53fae578\n"
          ]
        }
      ]
    },
    {
      "cell_type": "code",
      "metadata": {
        "colab": {
          "base_uri": "https://localhost:8080/"
        },
        "id": "EoAcitmdKgGk",
        "outputId": "8e87a09a-591d-4460-86ba-8985941a6d07"
      },
      "source": [
        "%load_ext nvcc_plugin"
      ],
      "execution_count": null,
      "outputs": [
        {
          "output_type": "stream",
          "name": "stdout",
          "text": [
            "The nvcc_plugin extension is already loaded. To reload it, use:\n",
            "  %reload_ext nvcc_plugin\n"
          ]
        }
      ]
    },
    {
      "cell_type": "code",
      "metadata": {
        "colab": {
          "base_uri": "https://localhost:8080/"
        },
        "id": "OXv7q-e9Z9ES",
        "outputId": "ed7b6803-1dda-4436-f608-bca71199dd47"
      },
      "source": [
        "%%writefile Kosucu.h\n",
        "#pragma once\n",
        "class Kosucu{\n",
        "  public:\n",
        "    Kosucu(int _id);\n",
        "    int id;\n",
        "    float mesafe;\n",
        "    float hiz;\n",
        "    bool bitti;\n",
        "};"
      ],
      "execution_count": null,
      "outputs": [
        {
          "output_type": "stream",
          "name": "stdout",
          "text": [
            "Overwriting Kosucu.h\n"
          ]
        }
      ]
    },
    {
      "cell_type": "code",
      "metadata": {
        "colab": {
          "base_uri": "https://localhost:8080/"
        },
        "id": "HsxqO605Z-vJ",
        "outputId": "09b45dd3-db71-484d-f05d-2deb4cb86bb7"
      },
      "source": [
        "%%writefile Kosucu.cpp\n",
        "#include \"Kosucu.h\"\n",
        "Kosucu::Kosucu(int _id){\n",
        "    id=_id;\n",
        "    mesafe=0;\n",
        "    hiz=0;\n",
        "    bitti=false;\n",
        "};"
      ],
      "execution_count": null,
      "outputs": [
        {
          "output_type": "stream",
          "name": "stdout",
          "text": [
            "Overwriting Kosucu.cpp\n"
          ]
        }
      ]
    },
    {
      "cell_type": "code",
      "metadata": {
        "colab": {
          "base_uri": "https://localhost:8080/"
        },
        "id": "CDii0lCmaBCu",
        "outputId": "42e51f8f-0360-43d2-99b7-066cbe1c6e32"
      },
      "source": [
        "%%writefile main.cu\n",
        "#include <stdio.h>\n",
        "#include <stdlib.h>\n",
        "#include <curand.h>\n",
        "#include <curand_kernel.h>\n",
        "#include <math.h>\n",
        "#include <thrust/sort.h>\n",
        "#include <iostream>\n",
        "#include <thread>\n",
        "#include \"Kosucu.h\"\n",
        "\n",
        "using namespace std;\n",
        "using namespace std::chrono;\n",
        "\n",
        "__host__ void yaz(Kosucu *h_kosucular, int adet){\n",
        "    printf(\"Siralama:\");\n",
        "  for (int i = 0; i < adet; i++)\n",
        "    printf(\"%d\\t\\t\",i+1);\n",
        "  printf(\"\\n\");\n",
        "  printf(\"Mesafe:\\t \");\n",
        "  for (int i = 0; i < adet; i++)\n",
        "    printf(\"%f\\t\",h_kosucular[i].mesafe);\n",
        "  printf(\"\\n\");\n",
        "  printf(\"Id:\\t \");\n",
        "  for (int i = 0; i < adet; i++)\n",
        "    printf(\"%d\\t\\t\",h_kosucular[i].id);\n",
        "  printf(\"\\n\\n\\n\");\n",
        "}\n",
        "__global__ void setup_kernel(curandState *state){\n",
        "  int idx = threadIdx.x;\n",
        "  curand_init(clock64(), idx, 0, &state[idx]);\n",
        "}\n",
        "__global__ void generate_kernel(curandState *my_curandstate, Kosucu *kosucular){\n",
        "  int idx = threadIdx.x;\n",
        "  if(kosucular[idx].bitti)\n",
        "    return;\n",
        "  float myrandf = curand_uniform(my_curandstate+idx);\n",
        "  myrandf *= 10000;\n",
        "  myrandf = fmodf(myrandf,4);\n",
        "  kosucular[idx].hiz = myrandf;\n",
        "}\n",
        "__host__ void rndHizAtama(int adet, Kosucu *h_kosucular){\n",
        "  curandState *d_state;\n",
        "  cudaMalloc(&d_state, adet * sizeof(curandState));\n",
        "\n",
        "  Kosucu *d_kosucular;\n",
        "  cudaMalloc(&d_kosucular, adet * sizeof(Kosucu));\n",
        "  \n",
        "  cudaMemcpy(d_kosucular, h_kosucular, adet * sizeof(Kosucu), cudaMemcpyHostToDevice);\n",
        "\n",
        "  setup_kernel<<<1,adet>>>(d_state);\n",
        "  generate_kernel<<<1,adet>>>(d_state, d_kosucular);\n",
        "  \n",
        "  cudaMemcpy(h_kosucular, d_kosucular, adet * sizeof(Kosucu), cudaMemcpyDeviceToHost);\n",
        "}\n",
        "__global__ void keySet(float *d_key, Kosucu *d_kosucular){\n",
        "  int idx = threadIdx.x;\n",
        "  d_key[idx]=d_kosucular[idx].mesafe;\n",
        "}\n",
        "__host__ void sirala(int adet, Kosucu *h_kosucular){\n",
        "  Kosucu *d_kosucular;\n",
        "  cudaMalloc(&d_kosucular, adet * sizeof(Kosucu));\n",
        "  cudaMemcpy(d_kosucular, h_kosucular, adet * sizeof(Kosucu), cudaMemcpyHostToDevice);\n",
        "  \n",
        "  float *d_key, *h_key;\n",
        "  h_key = (float *)malloc(adet * sizeof(float));\n",
        "  cudaMalloc(&d_key, adet * sizeof(float));\n",
        "  //cudaMemset(d_key, 0,adet * sizeof(float));\n",
        "\n",
        "  for (int i = 0; i < adet; i++)\n",
        "    h_key[i]=i+1;\n",
        "  //cudaMemcpy(d_key, h_key, adet * sizeof(Kosucu), cudaMemcpyHostToDevice);\n",
        "  \n",
        "  keySet<<<1,adet>>>(d_key, d_kosucular);\n",
        "  cudaMemcpy(h_key, d_key, adet * sizeof(float), cudaMemcpyDeviceToHost);\n",
        "  \n",
        "  thrust::sort_by_key(thrust::host, h_key, h_key + adet, h_kosucular, thrust::greater<float>());  \n",
        "}\n",
        "__global__ void kos(Kosucu *kosucular, bool *flag, int pist){\n",
        "  int idx = threadIdx.x;\n",
        "  kosucular[idx].mesafe = kosucular[idx].mesafe + kosucular[idx].hiz;\n",
        "  if(kosucular[idx].mesafe>pist){    \n",
        "    flag[0]=true;\n",
        "    kosucular[idx].hiz=5; \n",
        "    kosucular[idx].bitti=true; \n",
        "  }\n",
        "}\n",
        "__host__ void kostur(int adet, Kosucu *h_kosucular, int pist, int maxHiz, int minHiz, bool *h_flag, bool *finish){//\n",
        "\n",
        "  Kosucu *d_kosucular;\n",
        "  cudaMalloc(&d_kosucular, adet * sizeof(Kosucu));\n",
        "  cudaMemcpy(d_kosucular, h_kosucular, adet * sizeof(Kosucu), cudaMemcpyHostToDevice);\n",
        "\n",
        "  bool *d_flag;\n",
        "  cudaMalloc(&d_flag, 2 * sizeof(bool));\n",
        "  cudaMemcpy(d_flag, h_flag, 2 * sizeof(bool), cudaMemcpyHostToDevice);\n",
        "    \n",
        "  rndHizAtama(adet, d_kosucular);\n",
        "  kos<<<1,adet>>>(d_kosucular, d_flag, pist);\n",
        "\n",
        "  cudaMemcpy(h_kosucular, d_kosucular, adet * sizeof(Kosucu), cudaMemcpyDeviceToHost);\n",
        "  cudaMemcpy(h_flag, d_flag, 2 * sizeof(bool), cudaMemcpyDeviceToHost);\n",
        "\n",
        "  if(h_flag[0])\n",
        "  sirala(adet, h_kosucular);\n",
        "  \n",
        "  if(h_flag[0]&&!finish[0]){\n",
        "    yaz(h_kosucular, adet);\n",
        "    finish[0]=true;\n",
        "  }\n",
        "  h_flag[1]=h_kosucular[adet-1].bitti;\n",
        "\n",
        "  if(h_flag[1]){\n",
        "    yaz(h_kosucular, adet);\n",
        "  }\n",
        "}\n",
        "\n",
        "int main(){\n",
        "  int adet = 100; //koşucu adedi\n",
        "  int pist = 100; //koşu mesafesi\n",
        "  int minHiz=1;\n",
        "  int maxHiz=5;\n",
        "  float turSuresi=1;//sn bazında\n",
        "\n",
        "  Kosucu *kosucular;\n",
        "  kosucular = (Kosucu *)malloc(adet * sizeof(Kosucu));\n",
        "  for (int i = 0; i < adet; i++){\n",
        "      Kosucu *k=new Kosucu(i+1);\n",
        "      kosucular[i]=*k;\n",
        "  }\n",
        "\n",
        "  bool *flag, *finish;\n",
        "  flag =   (bool *)malloc(2 * sizeof(bool));\n",
        "  finish = (bool *)malloc(2 * sizeof(bool));\n",
        "  flag[0]=false;\n",
        "  finish[0]=false;\n",
        "  flag[1]=false;\n",
        "  finish[1]=false;\n",
        "  int turAdedi=0; \n",
        "  const clock_t start = clock();\n",
        "\n",
        "  const clock_t time = clock();\n",
        "  clock_t next=time+CLOCKS_PER_SEC*turSuresi;\n",
        "  while(!flag[1]) { \n",
        "    const clock_t time = clock();\n",
        "    if(time>=next){\n",
        "      kostur(adet, kosucular, pist, maxHiz, minHiz, flag, finish);\n",
        "      turAdedi++;\n",
        "      next+=CLOCKS_PER_SEC*turSuresi;\n",
        "    } \n",
        "  }\n",
        " \n",
        "} "
      ],
      "execution_count": null,
      "outputs": [
        {
          "output_type": "stream",
          "name": "stdout",
          "text": [
            "Overwriting main.cu\n"
          ]
        }
      ]
    },
    {
      "cell_type": "code",
      "metadata": {
        "colab": {
          "base_uri": "https://localhost:8080/"
        },
        "id": "38NQwlItaECU",
        "outputId": "eb67276c-0eae-4deb-c5db-5413e2c44e98"
      },
      "source": [
        "%%script bash\n",
        "nvcc -arch=sm_37 main.cu Kosucu.cpp -I/usr/local/cuda/include -o Race "
      ],
      "execution_count": null,
      "outputs": [
        {
          "output_type": "stream",
          "name": "stderr",
          "text": [
            "nvcc warning : The 'compute_35', 'compute_37', 'compute_50', 'sm_35', 'sm_37' and 'sm_50' architectures are deprecated, and may be removed in a future release (Use -Wno-deprecated-gpu-targets to suppress warning).\n"
          ]
        }
      ]
    },
    {
      "cell_type": "code",
      "metadata": {
        "colab": {
          "base_uri": "https://localhost:8080/"
        },
        "id": "Pz_r8i4SaM8R",
        "outputId": "66927e7d-055b-4980-c40b-2b9ce10f84db"
      },
      "source": [
        "!./Race\n"
      ],
      "execution_count": null,
      "outputs": [
        {
          "output_type": "stream",
          "name": "stdout",
          "text": [
            "Siralama:1\t\t2\t\t3\t\t4\t\t5\t\t6\t\t7\t\t8\t\t9\t\t10\t\t11\t\t12\t\t13\t\t14\t\t15\t\t16\t\t17\t\t18\t\t19\t\t20\t\t21\t\t22\t\t23\t\t24\t\t25\t\t26\t\t27\t\t28\t\t29\t\t30\t\t31\t\t32\t\t33\t\t34\t\t35\t\t36\t\t37\t\t38\t\t39\t\t40\t\t41\t\t42\t\t43\t\t44\t\t45\t\t46\t\t47\t\t48\t\t49\t\t50\t\t51\t\t52\t\t53\t\t54\t\t55\t\t56\t\t57\t\t58\t\t59\t\t60\t\t61\t\t62\t\t63\t\t64\t\t65\t\t66\t\t67\t\t68\t\t69\t\t70\t\t71\t\t72\t\t73\t\t74\t\t75\t\t76\t\t77\t\t78\t\t79\t\t80\t\t81\t\t82\t\t83\t\t84\t\t85\t\t86\t\t87\t\t88\t\t89\t\t90\t\t91\t\t92\t\t93\t\t94\t\t95\t\t96\t\t97\t\t98\t\t99\t\t100\t\t\n",
            "Mesafe:\t 100.815758\t99.971985\t99.595200\t99.443787\t98.755249\t98.595551\t97.673340\t97.251183\t96.371887\t96.278442\t95.372223\t95.368080\t95.004349\t94.452080\t93.755409\t93.402954\t93.364182\t93.360710\t92.308167\t92.103271\t91.996735\t91.879120\t91.036118\t90.704437\t90.143616\t89.950806\t89.729301\t89.675835\t89.617706\t89.541939\t89.271469\t89.229309\t88.775726\t88.748901\t88.524063\t88.141701\t87.997101\t87.971588\t87.953461\t87.881775\t87.673904\t86.932564\t86.678314\t86.530426\t86.359009\t85.670868\t85.481079\t85.463692\t85.189911\t85.082085\t84.888794\t84.812912\t84.516800\t84.221550\t84.152054\t84.031860\t83.832535\t83.682068\t83.642624\t83.614105\t83.508148\t83.342407\t83.246338\t83.219711\t82.943329\t82.839462\t82.816956\t82.626862\t82.531021\t82.506287\t82.412720\t81.887222\t81.585846\t81.548584\t80.649353\t80.287781\t80.215546\t80.098572\t80.032600\t79.963089\t79.950302\t79.600113\t79.387619\t79.340935\t79.073975\t79.005508\t78.828598\t78.328613\t77.886261\t77.541214\t76.635223\t76.394043\t75.331451\t74.739807\t74.471527\t73.847092\t72.984344\t72.874084\t72.764114\t65.722794\t\n",
            "Id:\t 41\t\t2\t\t83\t\t27\t\t82\t\t33\t\t7\t\t25\t\t49\t\t81\t\t11\t\t31\t\t16\t\t1\t\t73\t\t95\t\t92\t\t8\t\t50\t\t13\t\t87\t\t59\t\t64\t\t18\t\t62\t\t88\t\t69\t\t10\t\t15\t\t17\t\t70\t\t72\t\t36\t\t37\t\t30\t\t96\t\t93\t\t91\t\t20\t\t54\t\t38\t\t75\t\t29\t\t26\t\t52\t\t5\t\t57\t\t66\t\t28\t\t71\t\t89\t\t23\t\t85\t\t79\t\t80\t\t9\t\t6\t\t86\t\t35\t\t60\t\t100\t\t43\t\t51\t\t99\t\t61\t\t98\t\t44\t\t47\t\t48\t\t76\t\t90\t\t58\t\t32\t\t97\t\t53\t\t24\t\t67\t\t84\t\t78\t\t19\t\t22\t\t55\t\t40\t\t77\t\t14\t\t21\t\t74\t\t12\t\t45\t\t3\t\t46\t\t34\t\t56\t\t42\t\t63\t\t4\t\t94\t\t65\t\t68\t\t39\t\t\n",
            "\n",
            "\n",
            "Siralama:1\t\t2\t\t3\t\t4\t\t5\t\t6\t\t7\t\t8\t\t9\t\t10\t\t11\t\t12\t\t13\t\t14\t\t15\t\t16\t\t17\t\t18\t\t19\t\t20\t\t21\t\t22\t\t23\t\t24\t\t25\t\t26\t\t27\t\t28\t\t29\t\t30\t\t31\t\t32\t\t33\t\t34\t\t35\t\t36\t\t37\t\t38\t\t39\t\t40\t\t41\t\t42\t\t43\t\t44\t\t45\t\t46\t\t47\t\t48\t\t49\t\t50\t\t51\t\t52\t\t53\t\t54\t\t55\t\t56\t\t57\t\t58\t\t59\t\t60\t\t61\t\t62\t\t63\t\t64\t\t65\t\t66\t\t67\t\t68\t\t69\t\t70\t\t71\t\t72\t\t73\t\t74\t\t75\t\t76\t\t77\t\t78\t\t79\t\t80\t\t81\t\t82\t\t83\t\t84\t\t85\t\t86\t\t87\t\t88\t\t89\t\t90\t\t91\t\t92\t\t93\t\t94\t\t95\t\t96\t\t97\t\t98\t\t99\t\t100\t\t\n",
            "Mesafe:\t 195.815765\t193.380707\t192.083801\t192.049255\t190.712250\t188.869934\t188.499634\t185.570679\t185.496704\t185.049896\t182.439606\t181.529053\t180.761902\t180.151062\t177.584915\t176.641708\t176.603455\t175.858215\t175.169556\t171.595078\t171.590607\t170.627777\t170.575348\t170.383270\t170.370850\t170.196411\t167.742737\t166.342377\t166.194427\t166.187073\t166.123993\t165.891083\t165.423828\t165.335648\t163.329071\t162.481598\t162.021118\t161.268875\t160.970337\t160.737976\t160.661224\t160.214050\t157.967346\t157.883957\t157.342148\t157.262131\t157.220459\t157.034332\t156.750183\t156.712006\t156.700089\t156.468735\t156.405075\t156.291626\t156.227875\t156.034668\t155.937805\t155.914124\t155.379257\t155.243530\t153.537582\t153.114868\t152.258942\t152.125916\t151.898285\t151.819214\t150.835449\t150.775360\t150.702805\t150.690094\t150.652573\t150.396606\t146.583939\t145.781799\t143.517410\t143.341141\t142.808853\t142.058487\t141.782623\t141.162430\t141.147949\t141.131714\t140.981415\t140.346970\t138.588257\t137.620300\t135.922684\t135.821014\t135.544647\t135.036087\t133.456512\t133.433777\t131.621155\t131.350433\t121.927917\t120.610336\t110.098846\t110.037804\t106.062683\t100.429886\t\n",
            "Id:\t 41\t\t83\t\t2\t\t27\t\t33\t\t49\t\t81\t\t82\t\t7\t\t25\t\t31\t\t73\t\t1\t\t69\t\t16\t\t92\t\t72\t\t62\t\t13\t\t70\t\t59\t\t18\t\t11\t\t29\t\t52\t\t88\t\t10\t\t36\t\t60\t\t50\t\t54\t\t96\t\t17\t\t85\t\t95\t\t87\t\t37\t\t38\t\t89\t\t35\t\t93\t\t97\t\t86\t\t20\t\t64\t\t23\t\t71\t\t91\t\t26\t\t15\t\t58\t\t6\t\t66\t\t5\t\t28\t\t8\t\t79\t\t44\t\t98\t\t57\t\t99\t\t78\t\t100\t\t47\t\t43\t\t9\t\t76\t\t61\t\t22\t\t53\t\t74\t\t75\t\t80\t\t42\t\t3\t\t30\t\t55\t\t48\t\t45\t\t14\t\t51\t\t32\t\t12\t\t40\t\t77\t\t24\t\t19\t\t67\t\t46\t\t68\t\t94\t\t90\t\t84\t\t63\t\t34\t\t4\t\t56\t\t39\t\t65\t\t21\t\t\n",
            "\n",
            "\n"
          ]
        }
      ]
    },
    {
      "cell_type": "code",
      "metadata": {
        "id": "sXd5gbFHswxW"
      },
      "source": [
        ""
      ],
      "execution_count": null,
      "outputs": []
    }
  ]
}