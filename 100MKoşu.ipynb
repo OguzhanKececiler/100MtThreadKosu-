{
  "nbformat": 4,
  "nbformat_minor": 0,
  "metadata": {
    "colab": {
      "name": "100MKoşu.ipynb",
      "provenance": [],
      "collapsed_sections": [],
      "authorship_tag": "ABX9TyNBPTLk+vySPtWCZMQB5mEd",
      "include_colab_link": true
    },
    "kernelspec": {
      "name": "python3",
      "display_name": "Python 3"
    },
    "language_info": {
      "name": "python"
    },
    "accelerator": "GPU"
  },
  "cells": [
    {
      "cell_type": "markdown",
      "metadata": {
        "id": "view-in-github",
        "colab_type": "text"
      },
      "source": [
        "<a href=\"https://colab.research.google.com/github/OguzhanKececiler/100MtThreadKosu-/blob/main/100MKo%C5%9Fu.ipynb\" target=\"_parent\"><img src=\"https://colab.research.google.com/assets/colab-badge.svg\" alt=\"Open In Colab\"/></a>"
      ]
    },
    {
      "cell_type": "code",
      "metadata": {
        "colab": {
          "base_uri": "https://localhost:8080/"
        },
        "id": "LgtTpYrg3YwK",
        "outputId": "9a9feddd-084e-447f-cca2-8bc3bb48488d"
      },
      "source": [
        "!nvcc --version"
      ],
      "execution_count": 52,
      "outputs": [
        {
          "output_type": "stream",
          "name": "stdout",
          "text": [
            "nvcc: NVIDIA (R) Cuda compiler driver\n",
            "Copyright (c) 2005-2020 NVIDIA Corporation\n",
            "Built on Mon_Oct_12_20:09:46_PDT_2020\n",
            "Cuda compilation tools, release 11.1, V11.1.105\n",
            "Build cuda_11.1.TC455_06.29190527_0\n"
          ]
        }
      ]
    },
    {
      "cell_type": "code",
      "metadata": {
        "id": "XH3gJUdbKbzt"
      },
      "source": [
        "!pip install git+git://github.com/andreinechaev/nvcc4jupyter.git"
      ],
      "execution_count": null,
      "outputs": []
    },
    {
      "cell_type": "code",
      "metadata": {
        "id": "EoAcitmdKgGk"
      },
      "source": [
        "%load_ext nvcc_plugin"
      ],
      "execution_count": null,
      "outputs": []
    },
    {
      "cell_type": "code",
      "metadata": {
        "id": "OXv7q-e9Z9ES"
      },
      "source": [
        "%%writefile Kosucu.h\n",
        "#pragma once\n",
        "class Kosucu{\n",
        "  public:\n",
        "    Kosucu(int _id);\n",
        "    int id;\n",
        "    float mesafe;\n",
        "    float hiz;\n",
        "    bool bitti;\n",
        "};"
      ],
      "execution_count": null,
      "outputs": []
    },
    {
      "cell_type": "code",
      "metadata": {
        "id": "HsxqO605Z-vJ"
      },
      "source": [
        "%%writefile Kosucu.cpp\n",
        "#include \"Kosucu.h\"\n",
        "Kosucu::Kosucu(int _id){\n",
        "    id=_id;\n",
        "    mesafe=0;\n",
        "    hiz=0;\n",
        "    bitti=false;\n",
        "};"
      ],
      "execution_count": null,
      "outputs": []
    },
    {
      "cell_type": "code",
      "metadata": {
        "id": "CDii0lCmaBCu"
      },
      "source": [
        "%%writefile main.cu\n",
        "#include <curand_kernel.h>\n",
        "#include <thrust/sort.h>\n",
        "#include <thread>\n",
        "#include \"Kosucu.h\"\n",
        "\n",
        "using namespace std;\n",
        "using namespace std::chrono;\n",
        "\n",
        "__host__ void yaz(Kosucu *h_kosucular, int adet){\n",
        "    printf(\"Siralama:\");\n",
        "  for (int i = 0; i < adet; i++)\n",
        "    printf(\"%d\\t\\t\",i+1);\n",
        "  printf(\"\\n\");\n",
        "  printf(\"Mesafe:\\t \");\n",
        "  for (int i = 0; i < adet; i++)\n",
        "    printf(\"%f\\t\",h_kosucular[i].mesafe);\n",
        "  printf(\"\\n\");\n",
        "  printf(\"Id:\\t \");\n",
        "  for (int i = 0; i < adet; i++)\n",
        "    printf(\"%d\\t\\t\",h_kosucular[i].id);\n",
        "  printf(\"\\n\\n\\n\");\n",
        "}\n",
        "__global__ void setup_kernel(curandState *state){\n",
        "  int idx = threadIdx.x;\n",
        "  curand_init(clock64(), idx, 0, &state[idx]);\n",
        "}\n",
        "__global__ void generate_kernel(curandState *my_curandstate, Kosucu *kosucular){\n",
        "  int idx = threadIdx.x;\n",
        "  if(kosucular[idx].bitti)\n",
        "    return;\n",
        "  float myrandf = curand_uniform(my_curandstate+idx);\n",
        "  myrandf *= 10000;\n",
        "  myrandf = fmodf(myrandf,4);\n",
        "  kosucular[idx].hiz = myrandf;\n",
        "}\n",
        "__host__ void rndHizAtama(int adet, Kosucu *h_kosucular){\n",
        "  curandState *d_state;\n",
        "  cudaMalloc(&d_state, adet * sizeof(curandState));\n",
        "\n",
        "  Kosucu *d_kosucular;\n",
        "  cudaMalloc(&d_kosucular, adet * sizeof(Kosucu));\n",
        "  \n",
        "  cudaMemcpy(d_kosucular, h_kosucular, adet * sizeof(Kosucu), cudaMemcpyHostToDevice);\n",
        "\n",
        "  setup_kernel<<<1,adet>>>(d_state);\n",
        "  generate_kernel<<<1,adet>>>(d_state, d_kosucular);\n",
        "  \n",
        "  cudaMemcpy(h_kosucular, d_kosucular, adet * sizeof(Kosucu), cudaMemcpyDeviceToHost);\n",
        "}\n",
        "__global__ void keySet(float *d_key, Kosucu *d_kosucular){\n",
        "  int idx = threadIdx.x;\n",
        "  d_key[idx]=d_kosucular[idx].mesafe;\n",
        "}\n",
        "__host__ void sirala(int adet, Kosucu *h_kosucular){\n",
        "  Kosucu *d_kosucular;\n",
        "  cudaMalloc(&d_kosucular, adet * sizeof(Kosucu));\n",
        "  cudaMemcpy(d_kosucular, h_kosucular, adet * sizeof(Kosucu), cudaMemcpyHostToDevice);\n",
        "  \n",
        "  float *d_key, *h_key;\n",
        "  h_key = (float *)malloc(adet * sizeof(float));\n",
        "  cudaMalloc(&d_key, adet * sizeof(float));\n",
        "  //cudaMemset(d_key, 0,adet * sizeof(float));\n",
        "\n",
        "  for (int i = 0; i < adet; i++)\n",
        "    h_key[i]=i+1;\n",
        "  //cudaMemcpy(d_key, h_key, adet * sizeof(Kosucu), cudaMemcpyHostToDevice);\n",
        "  \n",
        "  keySet<<<1,adet>>>(d_key, d_kosucular);\n",
        "  cudaMemcpy(h_key, d_key, adet * sizeof(float), cudaMemcpyDeviceToHost);\n",
        "  \n",
        "  thrust::sort_by_key(thrust::host, h_key, h_key + adet, h_kosucular, thrust::greater<float>());  \n",
        "}\n",
        "__global__ void kos(Kosucu *kosucular, bool *flag, int pist){\n",
        "  int idx = threadIdx.x;\n",
        "  kosucular[idx].mesafe = kosucular[idx].mesafe + kosucular[idx].hiz;\n",
        "  if(kosucular[idx].mesafe>pist){    \n",
        "    flag[0]=true;\n",
        "    kosucular[idx].hiz=5; \n",
        "    kosucular[idx].bitti=true; \n",
        "  }\n",
        "}\n",
        "__host__ void kostur(int adet, Kosucu *h_kosucular, int pist, int maxHiz, int minHiz, bool *h_flag, bool *finish){//\n",
        "\n",
        "  Kosucu *d_kosucular;\n",
        "  cudaMalloc(&d_kosucular, adet * sizeof(Kosucu));\n",
        "  cudaMemcpy(d_kosucular, h_kosucular, adet * sizeof(Kosucu), cudaMemcpyHostToDevice);\n",
        "\n",
        "  bool *d_flag;\n",
        "  cudaMalloc(&d_flag, 2 * sizeof(bool));\n",
        "  cudaMemcpy(d_flag, h_flag, 2 * sizeof(bool), cudaMemcpyHostToDevice);\n",
        "    \n",
        "  rndHizAtama(adet, d_kosucular);\n",
        "  kos<<<1,adet>>>(d_kosucular, d_flag, pist);\n",
        "\n",
        "  cudaMemcpy(h_kosucular, d_kosucular, adet * sizeof(Kosucu), cudaMemcpyDeviceToHost);\n",
        "  cudaMemcpy(h_flag, d_flag, 2 * sizeof(bool), cudaMemcpyDeviceToHost);\n",
        "\n",
        "  if(h_flag[0])\n",
        "  sirala(adet, h_kosucular);\n",
        "  \n",
        "  if(h_flag[0]&&!finish[0]){\n",
        "    printf(\"\\nBirinci Finişi Geçti...\\n\");\n",
        "    yaz(h_kosucular, adet);\n",
        "    finish[0]=true;\n",
        "  }\n",
        "  h_flag[1]=h_kosucular[adet-1].bitti;\n",
        "\n",
        "  if(h_flag[1]){\n",
        "    printf(\"\\nYarışma Bitti...\\n\");\n",
        "    yaz(h_kosucular, adet);\n",
        "  }\n",
        "}\n",
        "\n",
        "int main(){\n",
        "  int adet = 100; //koşucu adedi\n",
        "  int pist = 100; //koşu mesafesi\n",
        "  int minHiz=1;\n",
        "  int maxHiz=5;\n",
        "  float turSuresi=1;//sn bazında\n",
        "\n",
        "  Kosucu *kosucular;\n",
        "  kosucular = (Kosucu *)malloc(adet * sizeof(Kosucu));\n",
        "  for (int i = 0; i < adet; i++){\n",
        "      Kosucu *k=new Kosucu(i+1);\n",
        "      kosucular[i]=*k;\n",
        "  }\n",
        "\n",
        "  bool *flag, *finish;\n",
        "  flag =   (bool *)malloc(2 * sizeof(bool));\n",
        "  finish = (bool *)malloc(2 * sizeof(bool));\n",
        "  flag[0]=false;\n",
        "  finish[0]=false;\n",
        "  flag[1]=false;\n",
        "  finish[1]=false;\n",
        "  int turAdedi=0; \n",
        "  const clock_t start = clock();\n",
        "\n",
        "  const clock_t time = clock();\n",
        "  clock_t next=time+CLOCKS_PER_SEC*turSuresi;\n",
        "  while(!flag[1]) { \n",
        "    const clock_t time = clock();\n",
        "    if(time>=next){\n",
        "      kostur(adet, kosucular, pist, maxHiz, minHiz, flag, finish);\n",
        "      turAdedi++;\n",
        "      next+=CLOCKS_PER_SEC*turSuresi;\n",
        "    } \n",
        "  }\n",
        " \n",
        "} "
      ],
      "execution_count": null,
      "outputs": []
    },
    {
      "cell_type": "code",
      "metadata": {
        "id": "38NQwlItaECU"
      },
      "source": [
        "%%script bash\n",
        "nvcc -arch=sm_37 main.cu Kosucu.cpp -o Race "
      ],
      "execution_count": null,
      "outputs": []
    },
    {
      "cell_type": "code",
      "metadata": {
        "id": "Pz_r8i4SaM8R"
      },
      "source": [
        "!./Race"
      ],
      "execution_count": null,
      "outputs": []
    }
  ]
}